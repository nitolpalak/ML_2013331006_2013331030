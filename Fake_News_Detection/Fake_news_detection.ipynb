{
 "cells": [
  {
   "cell_type": "code",
   "execution_count": 1,
   "metadata": {
    "collapsed": true
   },
   "outputs": [],
   "source": [
    "# This file create and Vectorize and out result with training\n",
    "\n",
    "from sklearn.metrics import f1_score, confusion_matrix, accuracy_score\n",
    "from sklearn.feature_extraction.text import CountVectorizer\n",
    "from sklearn import svm\n",
    "from sklearn.linear_model import LogisticRegression\n",
    "from sklearn.neighbors import KNeighborsClassifier\n",
    "from sklearn.neural_network import MLPClassifier\n",
    "import numpy as np\n",
    "import time\n",
    "start_time = time.time()\n"
   ]
  },
  {
   "cell_type": "code",
   "execution_count": 2,
   "metadata": {
    "collapsed": true
   },
   "outputs": [],
   "source": [
    "def TrainX(vec):\n",
    "    fin = open(\"datasetML.txt\", encoding=\"utf-8\")\n",
    "    corpus = []\n",
    "    text = fin.readline()\n",
    "\n",
    "    while text:\n",
    "        corpus.append(text.strip())\n",
    "        text = fin.readline()\n",
    "    fin.close()\n",
    "    print(len(corpus))\n",
    "    return vec.fit_transform(corpus)"
   ]
  },
  {
   "cell_type": "code",
   "execution_count": 3,
   "metadata": {
    "collapsed": true
   },
   "outputs": [],
   "source": [
    "def TrainY():\n",
    "    trainY = []\n",
    "    fin = open(\"resultML.txt\")\n",
    "\n",
    "    yval = fin.readline()\n",
    "    while yval:\n",
    "        trainY.append(int(yval))\n",
    "        yval = fin.readline()\n",
    "\n",
    "    return np.asarray(trainY)\n"
   ]
  },
  {
   "cell_type": "code",
   "execution_count": 4,
   "metadata": {
    "collapsed": true
   },
   "outputs": [],
   "source": [
    "def SVM(trainX,trainY,testX): #Support Vector Machine\n",
    "    model = svm.SVC(kernel=\"linear\")\n",
    "    model.fit(trainX, trainY)\n",
    "    result = []\n",
    "    for i in testX:\n",
    "        result.append(model.predict(i))\n",
    "\n",
    "    return np.asarray(result)"
   ]
  },
  {
   "cell_type": "code",
   "execution_count": 11,
   "metadata": {
    "collapsed": true
   },
   "outputs": [],
   "source": [
    "def LR(trainX, trainY, testX, testY):#Logistic Regression\n",
    "    clf = LogisticRegression(fit_intercept=True, C = 1e15)\n",
    "    clf.fit(trainX, trainY)\n",
    "\n",
    "    print ('Accuracy from logistic regression: {0}'.format(clf.score(testX, testY)))\n",
    "\n",
    "    print (clf.intercept_, clf.coef_)\n",
    "    # print (weights)"
   ]
  },
  {
   "cell_type": "code",
   "execution_count": null,
   "metadata": {
    "collapsed": true
   },
   "outputs": [],
   "source": [
    "from sklearn.linear_model import Ridge\n",
    "def RR(trainX, trainY, testX, testY):\n",
    "    clf = Ridge()\n",
    "    clf.fit(trainX, trainY)\n",
    "\n",
    "    print ('Accuracy from Ridge regression: {0}'.format(clf.score(testX, testY)))\n",
    "\n",
    "    print (clf.intercept_, clf.coef_)"
   ]
  },
  {
   "cell_type": "code",
   "execution_count": 6,
   "metadata": {
    "collapsed": true
   },
   "outputs": [],
   "source": [
    "def KNC(trainX, trainY, testX, testY): #K Neighbors Classifier\n",
    "    knn = KNeighborsClassifier(algorithm='auto', leaf_size=30, metric='minkowski',\n",
    "           metric_params=None, n_jobs=1, n_neighbors=1, p=2,\n",
    "           weights='distance')\n",
    "    knn.fit(trainX, trainY)\n",
    "    # print(knn.predict(testX))\n",
    "    print(knn.predict_proba(testX))\n",
    "#    print(knn.predict_proba(data)[:, 1])\n",
    "    print('accuracy for KNN:{0}'.format(knn.score(testX, testY)))"
   ]
  },
  {
   "cell_type": "code",
   "execution_count": null,
   "metadata": {},
   "outputs": [
    {
     "name": "stdout",
     "output_type": "stream",
     "text": [
      "21607\n"
     ]
    }
   ],
   "source": [
    "if __name__ == '__main__':\n",
    "    vec = CountVectorizer(tokenizer=lambda x: x.split(),ngram_range=(1,4) )\n",
    "    dataX = TrainX(vec)\n",
    "    dataY = TrainY()\n",
    "\n",
    "   # print(dataX.shape)\n",
    "    x = dataX[1000:3000]\n",
    "    y = dataY[1000:3000]\n",
    "    tx = dataX[3000:]\n",
    "    ty = dataY[3000:]\n",
    "\n",
    "    predictedResult = SVM(x,y,tx)\n",
    "\n",
    "    cm = confusion_matrix(ty,predictedResult)\n",
    "    accu = accuracy_score(ty,predictedResult)\n",
    "\n",
    "    print(\"Accuracy from SVM \", accu)\n",
    "\n",
    "    predict2= LR(x, y, tx, ty)\n",
    "    \n",
    "    KNC(x, y, tx, ty)\n",
    "\n"
   ]
  },
  {
   "cell_type": "code",
   "execution_count": null,
   "metadata": {
    "collapsed": true
   },
   "outputs": [],
   "source": [
    "result = RR(x, y, tx, ty)"
   ]
  }
 ],
 "metadata": {
  "kernelspec": {
   "display_name": "Python 3",
   "language": "python",
   "name": "python3"
  },
  "language_info": {
   "codemirror_mode": {
    "name": "ipython",
    "version": 3
   },
   "file_extension": ".py",
   "mimetype": "text/x-python",
   "name": "python",
   "nbconvert_exporter": "python",
   "pygments_lexer": "ipython3",
   "version": "3.6.3"
  }
 },
 "nbformat": 4,
 "nbformat_minor": 2
}
